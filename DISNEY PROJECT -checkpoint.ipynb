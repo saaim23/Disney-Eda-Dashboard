{
 "cells": [
  {
   "cell_type": "markdown",
   "id": "9b38a9f8-b1cd-47a8-b597-f5f85625c9ff",
   "metadata": {},
   "source": [
    "# data cleaning for disney project \n"
   ]
  },
  {
   "cell_type": "code",
   "execution_count": 1,
   "id": "599ff63e-3aa9-4f5e-8474-d7440d3e39a5",
   "metadata": {
    "tags": []
   },
   "outputs": [],
   "source": [
    "import pandas as pd \n",
    "import numpy as np \n",
    "import openpyxl\n",
    "import os \n"
   ]
  },
  {
   "cell_type": "code",
   "execution_count": null,
   "id": "35599330-1003-42ea-b7fa-5e089709c1d1",
   "metadata": {
    "tags": []
   },
   "outputs": [],
   "source": []
  },
  {
   "cell_type": "code",
   "execution_count": 2,
   "id": "ede42ae8-197d-46d7-87c8-0df872802e7d",
   "metadata": {
    "tags": []
   },
   "outputs": [],
   "source": [
    "df=pd.read_csv('disney_movies_total_gross.csv')"
   ]
  },
  {
   "cell_type": "code",
   "execution_count": 3,
   "id": "12eec091-ebbd-4cef-a4b4-437ec4f08f54",
   "metadata": {
    "tags": []
   },
   "outputs": [
    {
     "data": {
      "text/html": [
       "<div>\n",
       "<style scoped>\n",
       "    .dataframe tbody tr th:only-of-type {\n",
       "        vertical-align: middle;\n",
       "    }\n",
       "\n",
       "    .dataframe tbody tr th {\n",
       "        vertical-align: top;\n",
       "    }\n",
       "\n",
       "    .dataframe thead th {\n",
       "        text-align: right;\n",
       "    }\n",
       "</style>\n",
       "<table border=\"1\" class=\"dataframe\">\n",
       "  <thead>\n",
       "    <tr style=\"text-align: right;\">\n",
       "      <th></th>\n",
       "      <th>movie_title</th>\n",
       "      <th>release_date</th>\n",
       "      <th>genre</th>\n",
       "      <th>mpaa_rating</th>\n",
       "      <th>total_gross</th>\n",
       "      <th>inflation_adjusted_gross</th>\n",
       "    </tr>\n",
       "  </thead>\n",
       "  <tbody>\n",
       "    <tr>\n",
       "      <th>0</th>\n",
       "      <td>Snow White and the Seven Dwarfs</td>\n",
       "      <td>1937-12-21</td>\n",
       "      <td>Musical</td>\n",
       "      <td>G</td>\n",
       "      <td>184925485</td>\n",
       "      <td>5228953251</td>\n",
       "    </tr>\n",
       "    <tr>\n",
       "      <th>1</th>\n",
       "      <td>Pinocchio</td>\n",
       "      <td>1940-02-09</td>\n",
       "      <td>Adventure</td>\n",
       "      <td>G</td>\n",
       "      <td>84300000</td>\n",
       "      <td>2188229052</td>\n",
       "    </tr>\n",
       "    <tr>\n",
       "      <th>2</th>\n",
       "      <td>Fantasia</td>\n",
       "      <td>1940-11-13</td>\n",
       "      <td>Musical</td>\n",
       "      <td>G</td>\n",
       "      <td>83320000</td>\n",
       "      <td>2187090808</td>\n",
       "    </tr>\n",
       "    <tr>\n",
       "      <th>3</th>\n",
       "      <td>Song of the South</td>\n",
       "      <td>1946-11-12</td>\n",
       "      <td>Adventure</td>\n",
       "      <td>G</td>\n",
       "      <td>65000000</td>\n",
       "      <td>1078510579</td>\n",
       "    </tr>\n",
       "    <tr>\n",
       "      <th>4</th>\n",
       "      <td>Cinderella</td>\n",
       "      <td>1950-02-15</td>\n",
       "      <td>Drama</td>\n",
       "      <td>G</td>\n",
       "      <td>85000000</td>\n",
       "      <td>920608730</td>\n",
       "    </tr>\n",
       "    <tr>\n",
       "      <th>...</th>\n",
       "      <td>...</td>\n",
       "      <td>...</td>\n",
       "      <td>...</td>\n",
       "      <td>...</td>\n",
       "      <td>...</td>\n",
       "      <td>...</td>\n",
       "    </tr>\n",
       "    <tr>\n",
       "      <th>574</th>\n",
       "      <td>The Light Between Oceans</td>\n",
       "      <td>2016-09-02</td>\n",
       "      <td>Drama</td>\n",
       "      <td>PG-13</td>\n",
       "      <td>12545979</td>\n",
       "      <td>12545979</td>\n",
       "    </tr>\n",
       "    <tr>\n",
       "      <th>575</th>\n",
       "      <td>Queen of Katwe</td>\n",
       "      <td>2016-09-23</td>\n",
       "      <td>Drama</td>\n",
       "      <td>PG</td>\n",
       "      <td>8874389</td>\n",
       "      <td>8874389</td>\n",
       "    </tr>\n",
       "    <tr>\n",
       "      <th>576</th>\n",
       "      <td>Doctor Strange</td>\n",
       "      <td>2016-11-04</td>\n",
       "      <td>Adventure</td>\n",
       "      <td>PG-13</td>\n",
       "      <td>232532923</td>\n",
       "      <td>232532923</td>\n",
       "    </tr>\n",
       "    <tr>\n",
       "      <th>577</th>\n",
       "      <td>Moana</td>\n",
       "      <td>2016-11-23</td>\n",
       "      <td>Adventure</td>\n",
       "      <td>PG</td>\n",
       "      <td>246082029</td>\n",
       "      <td>246082029</td>\n",
       "    </tr>\n",
       "    <tr>\n",
       "      <th>578</th>\n",
       "      <td>Rogue One: A Star Wars Story</td>\n",
       "      <td>2016-12-16</td>\n",
       "      <td>Adventure</td>\n",
       "      <td>PG-13</td>\n",
       "      <td>529483936</td>\n",
       "      <td>529483936</td>\n",
       "    </tr>\n",
       "  </tbody>\n",
       "</table>\n",
       "<p>579 rows × 6 columns</p>\n",
       "</div>"
      ],
      "text/plain": [
       "                         movie_title release_date      genre mpaa_rating  \\\n",
       "0    Snow White and the Seven Dwarfs   1937-12-21    Musical           G   \n",
       "1                          Pinocchio   1940-02-09  Adventure           G   \n",
       "2                           Fantasia   1940-11-13    Musical           G   \n",
       "3                  Song of the South   1946-11-12  Adventure           G   \n",
       "4                         Cinderella   1950-02-15      Drama           G   \n",
       "..                               ...          ...        ...         ...   \n",
       "574         The Light Between Oceans   2016-09-02      Drama       PG-13   \n",
       "575                   Queen of Katwe   2016-09-23      Drama          PG   \n",
       "576                   Doctor Strange   2016-11-04  Adventure       PG-13   \n",
       "577                            Moana   2016-11-23  Adventure          PG   \n",
       "578     Rogue One: A Star Wars Story   2016-12-16  Adventure       PG-13   \n",
       "\n",
       "     total_gross  inflation_adjusted_gross  \n",
       "0      184925485                5228953251  \n",
       "1       84300000                2188229052  \n",
       "2       83320000                2187090808  \n",
       "3       65000000                1078510579  \n",
       "4       85000000                 920608730  \n",
       "..           ...                       ...  \n",
       "574     12545979                  12545979  \n",
       "575      8874389                   8874389  \n",
       "576    232532923                 232532923  \n",
       "577    246082029                 246082029  \n",
       "578    529483936                 529483936  \n",
       "\n",
       "[579 rows x 6 columns]"
      ]
     },
     "execution_count": 3,
     "metadata": {},
     "output_type": "execute_result"
    }
   ],
   "source": [
    "df"
   ]
  },
  {
   "cell_type": "code",
   "execution_count": 4,
   "id": "f0092e24-8131-4e61-9c04-4b0c8b42bd58",
   "metadata": {
    "tags": []
   },
   "outputs": [],
   "source": [
    "df.rename(columns={'movie_title':'Title'},inplace=True)"
   ]
  },
  {
   "cell_type": "code",
   "execution_count": 5,
   "id": "249cbb98-ee70-4d06-9d72-06369ff3d1fc",
   "metadata": {
    "tags": []
   },
   "outputs": [],
   "source": [
    "df.rename(columns={'release_date':'Release_Date',\n",
    "                   'mpaa_rating':'MPAA_Rating',\n",
    "                   'total_gross':'Toatl_Gross',\n",
    "                    'inflation_adjusted_gross':'Adjusted_Gross'},inplace=True)"
   ]
  },
  {
   "cell_type": "code",
   "execution_count": 6,
   "id": "b89c475d-698b-44af-92a2-b88c567a514c",
   "metadata": {
    "tags": []
   },
   "outputs": [],
   "source": [
    "df.rename(columns={'genre':'Genre'},inplace=True)"
   ]
  },
  {
   "cell_type": "code",
   "execution_count": 7,
   "id": "dbdacbe5-eaf0-4832-9903-38141cc86596",
   "metadata": {
    "tags": []
   },
   "outputs": [
    {
     "data": {
      "text/html": [
       "<div>\n",
       "<style scoped>\n",
       "    .dataframe tbody tr th:only-of-type {\n",
       "        vertical-align: middle;\n",
       "    }\n",
       "\n",
       "    .dataframe tbody tr th {\n",
       "        vertical-align: top;\n",
       "    }\n",
       "\n",
       "    .dataframe thead th {\n",
       "        text-align: right;\n",
       "    }\n",
       "</style>\n",
       "<table border=\"1\" class=\"dataframe\">\n",
       "  <thead>\n",
       "    <tr style=\"text-align: right;\">\n",
       "      <th></th>\n",
       "      <th>Title</th>\n",
       "      <th>Release_Date</th>\n",
       "      <th>Genre</th>\n",
       "      <th>MPAA_Rating</th>\n",
       "      <th>Toatl_Gross</th>\n",
       "      <th>Adjusted_Gross</th>\n",
       "    </tr>\n",
       "  </thead>\n",
       "  <tbody>\n",
       "    <tr>\n",
       "      <th>0</th>\n",
       "      <td>Snow White and the Seven Dwarfs</td>\n",
       "      <td>1937-12-21</td>\n",
       "      <td>Musical</td>\n",
       "      <td>G</td>\n",
       "      <td>184925485</td>\n",
       "      <td>5228953251</td>\n",
       "    </tr>\n",
       "    <tr>\n",
       "      <th>1</th>\n",
       "      <td>Pinocchio</td>\n",
       "      <td>1940-02-09</td>\n",
       "      <td>Adventure</td>\n",
       "      <td>G</td>\n",
       "      <td>84300000</td>\n",
       "      <td>2188229052</td>\n",
       "    </tr>\n",
       "    <tr>\n",
       "      <th>2</th>\n",
       "      <td>Fantasia</td>\n",
       "      <td>1940-11-13</td>\n",
       "      <td>Musical</td>\n",
       "      <td>G</td>\n",
       "      <td>83320000</td>\n",
       "      <td>2187090808</td>\n",
       "    </tr>\n",
       "    <tr>\n",
       "      <th>3</th>\n",
       "      <td>Song of the South</td>\n",
       "      <td>1946-11-12</td>\n",
       "      <td>Adventure</td>\n",
       "      <td>G</td>\n",
       "      <td>65000000</td>\n",
       "      <td>1078510579</td>\n",
       "    </tr>\n",
       "    <tr>\n",
       "      <th>4</th>\n",
       "      <td>Cinderella</td>\n",
       "      <td>1950-02-15</td>\n",
       "      <td>Drama</td>\n",
       "      <td>G</td>\n",
       "      <td>85000000</td>\n",
       "      <td>920608730</td>\n",
       "    </tr>\n",
       "    <tr>\n",
       "      <th>...</th>\n",
       "      <td>...</td>\n",
       "      <td>...</td>\n",
       "      <td>...</td>\n",
       "      <td>...</td>\n",
       "      <td>...</td>\n",
       "      <td>...</td>\n",
       "    </tr>\n",
       "    <tr>\n",
       "      <th>574</th>\n",
       "      <td>The Light Between Oceans</td>\n",
       "      <td>2016-09-02</td>\n",
       "      <td>Drama</td>\n",
       "      <td>PG-13</td>\n",
       "      <td>12545979</td>\n",
       "      <td>12545979</td>\n",
       "    </tr>\n",
       "    <tr>\n",
       "      <th>575</th>\n",
       "      <td>Queen of Katwe</td>\n",
       "      <td>2016-09-23</td>\n",
       "      <td>Drama</td>\n",
       "      <td>PG</td>\n",
       "      <td>8874389</td>\n",
       "      <td>8874389</td>\n",
       "    </tr>\n",
       "    <tr>\n",
       "      <th>576</th>\n",
       "      <td>Doctor Strange</td>\n",
       "      <td>2016-11-04</td>\n",
       "      <td>Adventure</td>\n",
       "      <td>PG-13</td>\n",
       "      <td>232532923</td>\n",
       "      <td>232532923</td>\n",
       "    </tr>\n",
       "    <tr>\n",
       "      <th>577</th>\n",
       "      <td>Moana</td>\n",
       "      <td>2016-11-23</td>\n",
       "      <td>Adventure</td>\n",
       "      <td>PG</td>\n",
       "      <td>246082029</td>\n",
       "      <td>246082029</td>\n",
       "    </tr>\n",
       "    <tr>\n",
       "      <th>578</th>\n",
       "      <td>Rogue One: A Star Wars Story</td>\n",
       "      <td>2016-12-16</td>\n",
       "      <td>Adventure</td>\n",
       "      <td>PG-13</td>\n",
       "      <td>529483936</td>\n",
       "      <td>529483936</td>\n",
       "    </tr>\n",
       "  </tbody>\n",
       "</table>\n",
       "<p>579 rows × 6 columns</p>\n",
       "</div>"
      ],
      "text/plain": [
       "                               Title Release_Date      Genre MPAA_Rating  \\\n",
       "0    Snow White and the Seven Dwarfs   1937-12-21    Musical           G   \n",
       "1                          Pinocchio   1940-02-09  Adventure           G   \n",
       "2                           Fantasia   1940-11-13    Musical           G   \n",
       "3                  Song of the South   1946-11-12  Adventure           G   \n",
       "4                         Cinderella   1950-02-15      Drama           G   \n",
       "..                               ...          ...        ...         ...   \n",
       "574         The Light Between Oceans   2016-09-02      Drama       PG-13   \n",
       "575                   Queen of Katwe   2016-09-23      Drama          PG   \n",
       "576                   Doctor Strange   2016-11-04  Adventure       PG-13   \n",
       "577                            Moana   2016-11-23  Adventure          PG   \n",
       "578     Rogue One: A Star Wars Story   2016-12-16  Adventure       PG-13   \n",
       "\n",
       "     Toatl_Gross  Adjusted_Gross  \n",
       "0      184925485      5228953251  \n",
       "1       84300000      2188229052  \n",
       "2       83320000      2187090808  \n",
       "3       65000000      1078510579  \n",
       "4       85000000       920608730  \n",
       "..           ...             ...  \n",
       "574     12545979        12545979  \n",
       "575      8874389         8874389  \n",
       "576    232532923       232532923  \n",
       "577    246082029       246082029  \n",
       "578    529483936       529483936  \n",
       "\n",
       "[579 rows x 6 columns]"
      ]
     },
     "execution_count": 7,
     "metadata": {},
     "output_type": "execute_result"
    }
   ],
   "source": [
    "df"
   ]
  },
  {
   "cell_type": "code",
   "execution_count": 8,
   "id": "4473184e-f2ed-427a-b0e7-cef9897de0d2",
   "metadata": {
    "tags": []
   },
   "outputs": [
    {
     "data": {
      "text/plain": [
       "array(['Musical', 'Adventure', 'Drama', 'Comedy', nan, 'Action', 'Horror',\n",
       "       'Romantic Comedy', 'Thriller/Suspense', 'Western', 'Black Comedy',\n",
       "       'Documentary', 'Concert/Performance'], dtype=object)"
      ]
     },
     "execution_count": 8,
     "metadata": {},
     "output_type": "execute_result"
    }
   ],
   "source": [
    "df['Genre'].unique()"
   ]
  },
  {
   "cell_type": "code",
   "execution_count": 9,
   "id": "93aabee7-5256-4426-b3d8-7d3b0ff2ce6e",
   "metadata": {
    "tags": []
   },
   "outputs": [
    {
     "data": {
      "text/html": [
       "<div>\n",
       "<style scoped>\n",
       "    .dataframe tbody tr th:only-of-type {\n",
       "        vertical-align: middle;\n",
       "    }\n",
       "\n",
       "    .dataframe tbody tr th {\n",
       "        vertical-align: top;\n",
       "    }\n",
       "\n",
       "    .dataframe thead th {\n",
       "        text-align: right;\n",
       "    }\n",
       "</style>\n",
       "<table border=\"1\" class=\"dataframe\">\n",
       "  <thead>\n",
       "    <tr style=\"text-align: right;\">\n",
       "      <th></th>\n",
       "      <th>Title</th>\n",
       "      <th>Release_Date</th>\n",
       "      <th>Genre</th>\n",
       "      <th>MPAA_Rating</th>\n",
       "      <th>Toatl_Gross</th>\n",
       "      <th>Adjusted_Gross</th>\n",
       "    </tr>\n",
       "  </thead>\n",
       "  <tbody>\n",
       "    <tr>\n",
       "      <th>20</th>\n",
       "      <td>The Many Adventures of Winnie the Pooh</td>\n",
       "      <td>1977-03-11</td>\n",
       "      <td>NaN</td>\n",
       "      <td>NaN</td>\n",
       "      <td>0</td>\n",
       "      <td>0</td>\n",
       "    </tr>\n",
       "    <tr>\n",
       "      <th>22</th>\n",
       "      <td>Herbie Goes to Monte Carlo</td>\n",
       "      <td>1977-06-24</td>\n",
       "      <td>NaN</td>\n",
       "      <td>NaN</td>\n",
       "      <td>28000000</td>\n",
       "      <td>105847527</td>\n",
       "    </tr>\n",
       "    <tr>\n",
       "      <th>23</th>\n",
       "      <td>The Black Hole</td>\n",
       "      <td>1979-12-21</td>\n",
       "      <td>NaN</td>\n",
       "      <td>NaN</td>\n",
       "      <td>35841901</td>\n",
       "      <td>120377374</td>\n",
       "    </tr>\n",
       "    <tr>\n",
       "      <th>24</th>\n",
       "      <td>Midnight Madness</td>\n",
       "      <td>1980-02-08</td>\n",
       "      <td>NaN</td>\n",
       "      <td>NaN</td>\n",
       "      <td>2900000</td>\n",
       "      <td>9088096</td>\n",
       "    </tr>\n",
       "    <tr>\n",
       "      <th>25</th>\n",
       "      <td>The Last Flight of Noah’s Ark</td>\n",
       "      <td>1980-06-25</td>\n",
       "      <td>NaN</td>\n",
       "      <td>NaN</td>\n",
       "      <td>11000000</td>\n",
       "      <td>34472116</td>\n",
       "    </tr>\n",
       "    <tr>\n",
       "      <th>26</th>\n",
       "      <td>The Devil and Max Devlin</td>\n",
       "      <td>1981-01-01</td>\n",
       "      <td>NaN</td>\n",
       "      <td>NaN</td>\n",
       "      <td>16000000</td>\n",
       "      <td>48517980</td>\n",
       "    </tr>\n",
       "    <tr>\n",
       "      <th>121</th>\n",
       "      <td>Newsies</td>\n",
       "      <td>1992-04-08</td>\n",
       "      <td>NaN</td>\n",
       "      <td>PG</td>\n",
       "      <td>2706352</td>\n",
       "      <td>5497481</td>\n",
       "    </tr>\n",
       "    <tr>\n",
       "      <th>122</th>\n",
       "      <td>Passed Away</td>\n",
       "      <td>1992-04-24</td>\n",
       "      <td>NaN</td>\n",
       "      <td>PG-13</td>\n",
       "      <td>4030793</td>\n",
       "      <td>8187848</td>\n",
       "    </tr>\n",
       "    <tr>\n",
       "      <th>128</th>\n",
       "      <td>A Gun in Betty Lou's Handbag</td>\n",
       "      <td>1992-08-21</td>\n",
       "      <td>NaN</td>\n",
       "      <td>PG-13</td>\n",
       "      <td>3591460</td>\n",
       "      <td>7295423</td>\n",
       "    </tr>\n",
       "    <tr>\n",
       "      <th>146</th>\n",
       "      <td>Bound by Honor</td>\n",
       "      <td>1993-04-16</td>\n",
       "      <td>NaN</td>\n",
       "      <td>R</td>\n",
       "      <td>4496583</td>\n",
       "      <td>9156084</td>\n",
       "    </tr>\n",
       "    <tr>\n",
       "      <th>155</th>\n",
       "      <td>My Boyfriend's Back</td>\n",
       "      <td>1993-08-06</td>\n",
       "      <td>NaN</td>\n",
       "      <td>PG-13</td>\n",
       "      <td>3218882</td>\n",
       "      <td>6554384</td>\n",
       "    </tr>\n",
       "    <tr>\n",
       "      <th>156</th>\n",
       "      <td>Father Hood</td>\n",
       "      <td>1993-08-27</td>\n",
       "      <td>NaN</td>\n",
       "      <td>PG-13</td>\n",
       "      <td>3268203</td>\n",
       "      <td>6654819</td>\n",
       "    </tr>\n",
       "    <tr>\n",
       "      <th>168</th>\n",
       "      <td>Red Rock West</td>\n",
       "      <td>1994-01-28</td>\n",
       "      <td>NaN</td>\n",
       "      <td>R</td>\n",
       "      <td>2502551</td>\n",
       "      <td>5170709</td>\n",
       "    </tr>\n",
       "    <tr>\n",
       "      <th>251</th>\n",
       "      <td>The War at Home</td>\n",
       "      <td>1996-11-20</td>\n",
       "      <td>NaN</td>\n",
       "      <td>R</td>\n",
       "      <td>34368</td>\n",
       "      <td>65543</td>\n",
       "    </tr>\n",
       "    <tr>\n",
       "      <th>304</th>\n",
       "      <td>Endurance</td>\n",
       "      <td>1999-05-14</td>\n",
       "      <td>NaN</td>\n",
       "      <td>PG</td>\n",
       "      <td>229128</td>\n",
       "      <td>380218</td>\n",
       "    </tr>\n",
       "    <tr>\n",
       "      <th>350</th>\n",
       "      <td>High Heels and Low Lifes</td>\n",
       "      <td>2001-10-26</td>\n",
       "      <td>NaN</td>\n",
       "      <td>R</td>\n",
       "      <td>226792</td>\n",
       "      <td>337782</td>\n",
       "    </tr>\n",
       "    <tr>\n",
       "      <th>355</th>\n",
       "      <td>Frank McKlusky C.I.</td>\n",
       "      <td>2002-01-01</td>\n",
       "      <td>NaN</td>\n",
       "      <td>NaN</td>\n",
       "      <td>0</td>\n",
       "      <td>0</td>\n",
       "    </tr>\n",
       "  </tbody>\n",
       "</table>\n",
       "</div>"
      ],
      "text/plain": [
       "                                      Title Release_Date Genre MPAA_Rating  \\\n",
       "20   The Many Adventures of Winnie the Pooh   1977-03-11   NaN         NaN   \n",
       "22               Herbie Goes to Monte Carlo   1977-06-24   NaN         NaN   \n",
       "23                           The Black Hole   1979-12-21   NaN         NaN   \n",
       "24                         Midnight Madness   1980-02-08   NaN         NaN   \n",
       "25            The Last Flight of Noah’s Ark   1980-06-25   NaN         NaN   \n",
       "26                 The Devil and Max Devlin   1981-01-01   NaN         NaN   \n",
       "121                                 Newsies   1992-04-08   NaN          PG   \n",
       "122                             Passed Away   1992-04-24   NaN       PG-13   \n",
       "128            A Gun in Betty Lou's Handbag   1992-08-21   NaN       PG-13   \n",
       "146                          Bound by Honor   1993-04-16   NaN           R   \n",
       "155                     My Boyfriend's Back   1993-08-06   NaN       PG-13   \n",
       "156                             Father Hood   1993-08-27   NaN       PG-13   \n",
       "168                           Red Rock West   1994-01-28   NaN           R   \n",
       "251                         The War at Home   1996-11-20   NaN           R   \n",
       "304                               Endurance   1999-05-14   NaN          PG   \n",
       "350                High Heels and Low Lifes   2001-10-26   NaN           R   \n",
       "355                     Frank McKlusky C.I.   2002-01-01   NaN         NaN   \n",
       "\n",
       "     Toatl_Gross  Adjusted_Gross  \n",
       "20             0               0  \n",
       "22      28000000       105847527  \n",
       "23      35841901       120377374  \n",
       "24       2900000         9088096  \n",
       "25      11000000        34472116  \n",
       "26      16000000        48517980  \n",
       "121      2706352         5497481  \n",
       "122      4030793         8187848  \n",
       "128      3591460         7295423  \n",
       "146      4496583         9156084  \n",
       "155      3218882         6554384  \n",
       "156      3268203         6654819  \n",
       "168      2502551         5170709  \n",
       "251        34368           65543  \n",
       "304       229128          380218  \n",
       "350       226792          337782  \n",
       "355            0               0  "
      ]
     },
     "execution_count": 9,
     "metadata": {},
     "output_type": "execute_result"
    }
   ],
   "source": [
    "df[df['Genre'].isna()|(df['Genre']=='')]"
   ]
  },
  {
   "cell_type": "code",
   "execution_count": 10,
   "id": "373cb776-55e2-4121-9b49-b87d782c4fe2",
   "metadata": {
    "tags": []
   },
   "outputs": [],
   "source": [
    "df['Genre'].fillna('Genre_Missing',inplace=True)"
   ]
  },
  {
   "cell_type": "code",
   "execution_count": 11,
   "id": "9262bb98-5201-4ead-b4bc-5c3961a56388",
   "metadata": {
    "tags": []
   },
   "outputs": [
    {
     "data": {
      "text/plain": [
       "array(['G', nan, 'Not Rated', 'PG', 'R', 'PG-13'], dtype=object)"
      ]
     },
     "execution_count": 11,
     "metadata": {},
     "output_type": "execute_result"
    }
   ],
   "source": [
    "df['MPAA_Rating'].unique()"
   ]
  },
  {
   "cell_type": "code",
   "execution_count": 12,
   "id": "37e38612-c53b-47ae-adcf-ff749428edb6",
   "metadata": {
    "tags": []
   },
   "outputs": [
    {
     "data": {
      "text/plain": [
       "56"
      ]
     },
     "execution_count": 12,
     "metadata": {},
     "output_type": "execute_result"
    }
   ],
   "source": [
    "df['MPAA_Rating'].isnull().sum()"
   ]
  },
  {
   "cell_type": "code",
   "execution_count": 13,
   "id": "3f7ee105-3d10-4300-b4b7-373633ef6270",
   "metadata": {
    "tags": []
   },
   "outputs": [
    {
     "data": {
      "text/plain": [
       "0      False\n",
       "1      False\n",
       "2      False\n",
       "3      False\n",
       "4      False\n",
       "       ...  \n",
       "574    False\n",
       "575    False\n",
       "576    False\n",
       "577    False\n",
       "578    False\n",
       "Name: MPAA_Rating, Length: 579, dtype: bool"
      ]
     },
     "execution_count": 13,
     "metadata": {},
     "output_type": "execute_result"
    }
   ],
   "source": [
    "df['MPAA_Rating'].isna()|(df['MPAA_Rating']=='')"
   ]
  },
  {
   "cell_type": "code",
   "execution_count": 14,
   "id": "035bd65f-0165-4557-b91c-f178c6af4222",
   "metadata": {
    "tags": []
   },
   "outputs": [],
   "source": [
    "df['MPAA_Rating'].fillna('MPAA_MISSING',inplace=True)"
   ]
  },
  {
   "cell_type": "code",
   "execution_count": 15,
   "id": "39397fb3-53e6-4c80-9aaa-faa0e98668c1",
   "metadata": {
    "tags": []
   },
   "outputs": [
    {
     "data": {
      "text/plain": [
       "0"
      ]
     },
     "execution_count": 15,
     "metadata": {},
     "output_type": "execute_result"
    }
   ],
   "source": [
    "df['MPAA_Rating'].isnull().sum()"
   ]
  },
  {
   "cell_type": "code",
   "execution_count": 16,
   "id": "876daf3a-baed-47a9-8d10-8d1497a81f2e",
   "metadata": {
    "tags": []
   },
   "outputs": [
    {
     "data": {
      "text/html": [
       "<div>\n",
       "<style scoped>\n",
       "    .dataframe tbody tr th:only-of-type {\n",
       "        vertical-align: middle;\n",
       "    }\n",
       "\n",
       "    .dataframe tbody tr th {\n",
       "        vertical-align: top;\n",
       "    }\n",
       "\n",
       "    .dataframe thead th {\n",
       "        text-align: right;\n",
       "    }\n",
       "</style>\n",
       "<table border=\"1\" class=\"dataframe\">\n",
       "  <thead>\n",
       "    <tr style=\"text-align: right;\">\n",
       "      <th></th>\n",
       "      <th>Title</th>\n",
       "      <th>Release_Date</th>\n",
       "      <th>Genre</th>\n",
       "      <th>MPAA_Rating</th>\n",
       "    </tr>\n",
       "  </thead>\n",
       "  <tbody>\n",
       "    <tr>\n",
       "      <th>11</th>\n",
       "      <td>Bon Voyage!</td>\n",
       "      <td>1962-05-17</td>\n",
       "      <td>Comedy</td>\n",
       "      <td>Not Rated</td>\n",
       "    </tr>\n",
       "    <tr>\n",
       "      <th>13</th>\n",
       "      <td>The Jungle Book</td>\n",
       "      <td>1967-10-18</td>\n",
       "      <td>Musical</td>\n",
       "      <td>Not Rated</td>\n",
       "    </tr>\n",
       "    <tr>\n",
       "      <th>404</th>\n",
       "      <td>America's Heart and Soul</td>\n",
       "      <td>2004-07-02</td>\n",
       "      <td>Documentary</td>\n",
       "      <td>Not Rated</td>\n",
       "    </tr>\n",
       "  </tbody>\n",
       "</table>\n",
       "</div>"
      ],
      "text/plain": [
       "                        Title Release_Date        Genre MPAA_Rating\n",
       "11                Bon Voyage!   1962-05-17       Comedy   Not Rated\n",
       "13            The Jungle Book   1967-10-18      Musical   Not Rated\n",
       "404  America's Heart and Soul   2004-07-02  Documentary   Not Rated"
      ]
     },
     "execution_count": 16,
     "metadata": {},
     "output_type": "execute_result"
    }
   ],
   "source": [
    "df.loc[df['MPAA_Rating']=='Not Rated',df.columns[:4]]"
   ]
  },
  {
   "cell_type": "code",
   "execution_count": 17,
   "id": "eb19936a-5b1f-45fc-866a-e8d044861089",
   "metadata": {
    "tags": []
   },
   "outputs": [],
   "source": [
    "df.loc[df['MPAA_Rating']=='Not Rated','MPAA_Rating']='G'"
   ]
  },
  {
   "cell_type": "code",
   "execution_count": 18,
   "id": "9d7a9995-db6d-4b8d-a8cd-b64a30cd2ada",
   "metadata": {
    "tags": []
   },
   "outputs": [
    {
     "data": {
      "text/plain": [
       "0          G\n",
       "1          G\n",
       "2          G\n",
       "3          G\n",
       "4          G\n",
       "       ...  \n",
       "574    PG-13\n",
       "575       PG\n",
       "576    PG-13\n",
       "577       PG\n",
       "578    PG-13\n",
       "Name: MPAA_Rating, Length: 579, dtype: object"
      ]
     },
     "execution_count": 18,
     "metadata": {},
     "output_type": "execute_result"
    }
   ],
   "source": [
    "df['MPAA_Rating']"
   ]
  },
  {
   "cell_type": "code",
   "execution_count": 19,
   "id": "b68c949b-a4fb-458a-9fdc-37f53fb20a57",
   "metadata": {
    "tags": []
   },
   "outputs": [
    {
     "data": {
      "text/plain": [
       "0      False\n",
       "1      False\n",
       "2      False\n",
       "3      False\n",
       "4      False\n",
       "       ...  \n",
       "574    False\n",
       "575    False\n",
       "576    False\n",
       "577    False\n",
       "578    False\n",
       "Name: Title, Length: 579, dtype: bool"
      ]
     },
     "execution_count": 19,
     "metadata": {},
     "output_type": "execute_result"
    }
   ],
   "source": [
    "df['Title']==\"€\""
   ]
  },
  {
   "cell_type": "code",
   "execution_count": 20,
   "id": "6d0a1b9d-dc7a-4077-a897-62e695915aa6",
   "metadata": {
    "tags": []
   },
   "outputs": [
    {
     "data": {
      "text/html": [
       "<div>\n",
       "<style scoped>\n",
       "    .dataframe tbody tr th:only-of-type {\n",
       "        vertical-align: middle;\n",
       "    }\n",
       "\n",
       "    .dataframe tbody tr th {\n",
       "        vertical-align: top;\n",
       "    }\n",
       "\n",
       "    .dataframe thead th {\n",
       "        text-align: right;\n",
       "    }\n",
       "</style>\n",
       "<table border=\"1\" class=\"dataframe\">\n",
       "  <thead>\n",
       "    <tr style=\"text-align: right;\">\n",
       "      <th></th>\n",
       "      <th>Title</th>\n",
       "      <th>Release_Date</th>\n",
       "      <th>Genre</th>\n",
       "      <th>MPAA_Rating</th>\n",
       "      <th>Toatl_Gross</th>\n",
       "      <th>Adjusted_Gross</th>\n",
       "    </tr>\n",
       "  </thead>\n",
       "  <tbody>\n",
       "    <tr>\n",
       "      <th>0</th>\n",
       "      <td>Snow White and the Seven Dwarfs</td>\n",
       "      <td>1937-12-21</td>\n",
       "      <td>Musical</td>\n",
       "      <td>G</td>\n",
       "      <td>184925485</td>\n",
       "      <td>5228953251</td>\n",
       "    </tr>\n",
       "    <tr>\n",
       "      <th>1</th>\n",
       "      <td>Pinocchio</td>\n",
       "      <td>1940-02-09</td>\n",
       "      <td>Adventure</td>\n",
       "      <td>G</td>\n",
       "      <td>84300000</td>\n",
       "      <td>2188229052</td>\n",
       "    </tr>\n",
       "    <tr>\n",
       "      <th>2</th>\n",
       "      <td>Fantasia</td>\n",
       "      <td>1940-11-13</td>\n",
       "      <td>Musical</td>\n",
       "      <td>G</td>\n",
       "      <td>83320000</td>\n",
       "      <td>2187090808</td>\n",
       "    </tr>\n",
       "    <tr>\n",
       "      <th>3</th>\n",
       "      <td>Song of the South</td>\n",
       "      <td>1946-11-12</td>\n",
       "      <td>Adventure</td>\n",
       "      <td>G</td>\n",
       "      <td>65000000</td>\n",
       "      <td>1078510579</td>\n",
       "    </tr>\n",
       "    <tr>\n",
       "      <th>4</th>\n",
       "      <td>Cinderella</td>\n",
       "      <td>1950-02-15</td>\n",
       "      <td>Drama</td>\n",
       "      <td>G</td>\n",
       "      <td>85000000</td>\n",
       "      <td>920608730</td>\n",
       "    </tr>\n",
       "    <tr>\n",
       "      <th>...</th>\n",
       "      <td>...</td>\n",
       "      <td>...</td>\n",
       "      <td>...</td>\n",
       "      <td>...</td>\n",
       "      <td>...</td>\n",
       "      <td>...</td>\n",
       "    </tr>\n",
       "    <tr>\n",
       "      <th>574</th>\n",
       "      <td>The Light Between Oceans</td>\n",
       "      <td>2016-09-02</td>\n",
       "      <td>Drama</td>\n",
       "      <td>PG-13</td>\n",
       "      <td>12545979</td>\n",
       "      <td>12545979</td>\n",
       "    </tr>\n",
       "    <tr>\n",
       "      <th>575</th>\n",
       "      <td>Queen of Katwe</td>\n",
       "      <td>2016-09-23</td>\n",
       "      <td>Drama</td>\n",
       "      <td>PG</td>\n",
       "      <td>8874389</td>\n",
       "      <td>8874389</td>\n",
       "    </tr>\n",
       "    <tr>\n",
       "      <th>576</th>\n",
       "      <td>Doctor Strange</td>\n",
       "      <td>2016-11-04</td>\n",
       "      <td>Adventure</td>\n",
       "      <td>PG-13</td>\n",
       "      <td>232532923</td>\n",
       "      <td>232532923</td>\n",
       "    </tr>\n",
       "    <tr>\n",
       "      <th>577</th>\n",
       "      <td>Moana</td>\n",
       "      <td>2016-11-23</td>\n",
       "      <td>Adventure</td>\n",
       "      <td>PG</td>\n",
       "      <td>246082029</td>\n",
       "      <td>246082029</td>\n",
       "    </tr>\n",
       "    <tr>\n",
       "      <th>578</th>\n",
       "      <td>Rogue One: A Star Wars Story</td>\n",
       "      <td>2016-12-16</td>\n",
       "      <td>Adventure</td>\n",
       "      <td>PG-13</td>\n",
       "      <td>529483936</td>\n",
       "      <td>529483936</td>\n",
       "    </tr>\n",
       "  </tbody>\n",
       "</table>\n",
       "<p>579 rows × 6 columns</p>\n",
       "</div>"
      ],
      "text/plain": [
       "                               Title Release_Date      Genre MPAA_Rating  \\\n",
       "0    Snow White and the Seven Dwarfs   1937-12-21    Musical           G   \n",
       "1                          Pinocchio   1940-02-09  Adventure           G   \n",
       "2                           Fantasia   1940-11-13    Musical           G   \n",
       "3                  Song of the South   1946-11-12  Adventure           G   \n",
       "4                         Cinderella   1950-02-15      Drama           G   \n",
       "..                               ...          ...        ...         ...   \n",
       "574         The Light Between Oceans   2016-09-02      Drama       PG-13   \n",
       "575                   Queen of Katwe   2016-09-23      Drama          PG   \n",
       "576                   Doctor Strange   2016-11-04  Adventure       PG-13   \n",
       "577                            Moana   2016-11-23  Adventure          PG   \n",
       "578     Rogue One: A Star Wars Story   2016-12-16  Adventure       PG-13   \n",
       "\n",
       "     Toatl_Gross  Adjusted_Gross  \n",
       "0      184925485      5228953251  \n",
       "1       84300000      2188229052  \n",
       "2       83320000      2187090808  \n",
       "3       65000000      1078510579  \n",
       "4       85000000       920608730  \n",
       "..           ...             ...  \n",
       "574     12545979        12545979  \n",
       "575      8874389         8874389  \n",
       "576    232532923       232532923  \n",
       "577    246082029       246082029  \n",
       "578    529483936       529483936  \n",
       "\n",
       "[579 rows x 6 columns]"
      ]
     },
     "execution_count": 20,
     "metadata": {},
     "output_type": "execute_result"
    }
   ],
   "source": [
    " df"
   ]
  },
  {
   "cell_type": "code",
   "execution_count": 23,
   "id": "10e2f445-2da6-479a-bd10-877d69af7e76",
   "metadata": {
    "tags": []
   },
   "outputs": [],
   "source": [
    "df.to_excel(\"Disney Movies output.xlsx\", index=False)"
   ]
  },
  {
   "cell_type": "code",
   "execution_count": 22,
   "id": "5cc15d2d-907b-4ecb-ac39-ccc824a82816",
   "metadata": {
    "tags": []
   },
   "outputs": [
    {
     "data": {
      "text/html": [
       "<div>\n",
       "<style scoped>\n",
       "    .dataframe tbody tr th:only-of-type {\n",
       "        vertical-align: middle;\n",
       "    }\n",
       "\n",
       "    .dataframe tbody tr th {\n",
       "        vertical-align: top;\n",
       "    }\n",
       "\n",
       "    .dataframe thead th {\n",
       "        text-align: right;\n",
       "    }\n",
       "</style>\n",
       "<table border=\"1\" class=\"dataframe\">\n",
       "  <thead>\n",
       "    <tr style=\"text-align: right;\">\n",
       "      <th></th>\n",
       "      <th>Title</th>\n",
       "      <th>Release_Date</th>\n",
       "      <th>Genre</th>\n",
       "      <th>MPAA_Rating</th>\n",
       "      <th>Toatl_Gross</th>\n",
       "      <th>Adjusted_Gross</th>\n",
       "    </tr>\n",
       "  </thead>\n",
       "  <tbody>\n",
       "    <tr>\n",
       "      <th>0</th>\n",
       "      <td>Snow White and the Seven Dwarfs</td>\n",
       "      <td>1937-12-21</td>\n",
       "      <td>Musical</td>\n",
       "      <td>G</td>\n",
       "      <td>184925485</td>\n",
       "      <td>5228953251</td>\n",
       "    </tr>\n",
       "    <tr>\n",
       "      <th>1</th>\n",
       "      <td>Pinocchio</td>\n",
       "      <td>1940-02-09</td>\n",
       "      <td>Adventure</td>\n",
       "      <td>G</td>\n",
       "      <td>84300000</td>\n",
       "      <td>2188229052</td>\n",
       "    </tr>\n",
       "    <tr>\n",
       "      <th>2</th>\n",
       "      <td>Fantasia</td>\n",
       "      <td>1940-11-13</td>\n",
       "      <td>Musical</td>\n",
       "      <td>G</td>\n",
       "      <td>83320000</td>\n",
       "      <td>2187090808</td>\n",
       "    </tr>\n",
       "    <tr>\n",
       "      <th>3</th>\n",
       "      <td>Song of the South</td>\n",
       "      <td>1946-11-12</td>\n",
       "      <td>Adventure</td>\n",
       "      <td>G</td>\n",
       "      <td>65000000</td>\n",
       "      <td>1078510579</td>\n",
       "    </tr>\n",
       "    <tr>\n",
       "      <th>4</th>\n",
       "      <td>Cinderella</td>\n",
       "      <td>1950-02-15</td>\n",
       "      <td>Drama</td>\n",
       "      <td>G</td>\n",
       "      <td>85000000</td>\n",
       "      <td>920608730</td>\n",
       "    </tr>\n",
       "  </tbody>\n",
       "</table>\n",
       "</div>"
      ],
      "text/plain": [
       "                             Title Release_Date      Genre MPAA_Rating  \\\n",
       "0  Snow White and the Seven Dwarfs   1937-12-21    Musical           G   \n",
       "1                        Pinocchio   1940-02-09  Adventure           G   \n",
       "2                         Fantasia   1940-11-13    Musical           G   \n",
       "3                Song of the South   1946-11-12  Adventure           G   \n",
       "4                       Cinderella   1950-02-15      Drama           G   \n",
       "\n",
       "   Toatl_Gross  Adjusted_Gross  \n",
       "0    184925485      5228953251  \n",
       "1     84300000      2188229052  \n",
       "2     83320000      2187090808  \n",
       "3     65000000      1078510579  \n",
       "4     85000000       920608730  "
      ]
     },
     "execution_count": 22,
     "metadata": {},
     "output_type": "execute_result"
    }
   ],
   "source": [
    "df.head()\n",
    "\n"
   ]
  },
  {
   "cell_type": "code",
   "execution_count": null,
   "id": "fa2b38da-c52d-455c-9dc5-1b9d843c519a",
   "metadata": {},
   "outputs": [],
   "source": []
  },
  {
   "cell_type": "code",
   "execution_count": null,
   "id": "f760848e",
   "metadata": {},
   "outputs": [],
   "source": []
  }
 ],
 "metadata": {
  "kernelspec": {
   "display_name": "Python 3 (ipykernel)",
   "language": "python",
   "name": "python3"
  },
  "language_info": {
   "codemirror_mode": {
    "name": "ipython",
    "version": 3
   },
   "file_extension": ".py",
   "mimetype": "text/x-python",
   "name": "python",
   "nbconvert_exporter": "python",
   "pygments_lexer": "ipython3",
   "version": "3.11.5"
  }
 },
 "nbformat": 4,
 "nbformat_minor": 5
}
